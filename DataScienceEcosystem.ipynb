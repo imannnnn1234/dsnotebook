{
  "nbformat": 4,
  "nbformat_minor": 0,
  "metadata": {
    "colab": {
      "provenance": []
    },
    "kernelspec": {
      "name": "python3",
      "display_name": "Python 3"
    },
    "language_info": {
      "name": "python"
    }
  },
  "cells": [
    {
      "cell_type": "markdown",
      "source": [
        "# Data Science Tools and Ecosystem"
      ],
      "metadata": {
        "id": "W0icPONTBzg_"
      }
    },
    {
      "cell_type": "markdown",
      "source": [
        "In this notebook, Data Science Tools and Ecosystem are summarized"
      ],
      "metadata": {
        "id": "t0O8Sbe4B91F"
      }
    },
    {
      "cell_type": "code",
      "source": [],
      "metadata": {
        "id": "C_mWTV0xGkya"
      },
      "execution_count": null,
      "outputs": []
    },
    {
      "cell_type": "markdown",
      "source": [
        "Some of the popular languages that Data Scientists use are:"
      ],
      "metadata": {
        "id": "MhftQ5V4CT3m"
      }
    },
    {
      "cell_type": "markdown",
      "source": [
        "\n",
        "\n",
        "1.   Python\n",
        "2.  R\n",
        "3. Github\n",
        "\n",
        "\n",
        "\n"
      ],
      "metadata": {
        "id": "m9HkyVw3CY2j"
      }
    },
    {
      "cell_type": "markdown",
      "source": [
        "Some of the commonly used libraries used by Data Scientists include:\n",
        "\n",
        "\n",
        "1.   Pandas\n",
        "2.  ggplot\n",
        "3.  caret\n",
        "\n"
      ],
      "metadata": {
        "id": "1dgpdj7KCr5z"
      }
    },
    {
      "cell_type": "markdown",
      "source": [
        "| Data science tools |\n",
        "| --- |\n",
        "| RStudio |\n",
        "| ApacheSpark |\n",
        "| Tensorflow |"
      ],
      "metadata": {
        "id": "QlP-zYCTDAvy"
      }
    },
    {
      "cell_type": "markdown",
      "source": [
        "###Below are a few examples of evaluating arithmetic expressions in Python"
      ],
      "metadata": {
        "id": "RYYVWyv2ExaL"
      }
    },
    {
      "cell_type": "code",
      "source": [
        "#This a simple arithmetic expression to mutiply then add integers\n",
        "(3*4)+5"
      ],
      "metadata": {
        "colab": {
          "base_uri": "https://localhost:8080/"
        },
        "id": "7t3gnGdEE1fm",
        "outputId": "eecba016-57a3-4f52-a840-62a07f6cb279"
      },
      "execution_count": 2,
      "outputs": [
        {
          "output_type": "execute_result",
          "data": {
            "text/plain": [
              "17"
            ]
          },
          "metadata": {},
          "execution_count": 2
        }
      ]
    },
    {
      "cell_type": "code",
      "source": [
        "#This will convert 200 minutes to hours by diving by 60\n",
        "200/60"
      ],
      "metadata": {
        "colab": {
          "base_uri": "https://localhost:8080/"
        },
        "id": "r2T6tmEWFCRu",
        "outputId": "e65ab989-7b52-4f89-8a68-176339fa3b8f"
      },
      "execution_count": 3,
      "outputs": [
        {
          "output_type": "execute_result",
          "data": {
            "text/plain": [
              "3.3333333333333335"
            ]
          },
          "metadata": {},
          "execution_count": 3
        }
      ]
    },
    {
      "cell_type": "markdown",
      "source": [
        "List popular languages for Data Science:\n",
        "\n",
        "\n",
        "*   R\n",
        "*   SQL\n",
        "*   Java\n",
        "*    Julia\n"
      ],
      "metadata": {
        "id": "hU-AUBU0FicB"
      }
    },
    {
      "cell_type": "markdown",
      "source": [
        "##Author\n",
        "Iman El Banna"
      ],
      "metadata": {
        "id": "iwuIJtLfFzoR"
      }
    }
  ]
}